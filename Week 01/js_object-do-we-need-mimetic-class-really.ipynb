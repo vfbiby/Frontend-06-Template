{
 "cells": [
  {
   "cell_type": "markdown",
   "metadata": {},
   "source": [
    "# JavaScript对象：我们真的需要模拟类吗？"
   ]
  },
  {
   "cell_type": "markdown",
   "metadata": {},
   "source": [
    "JavaScript是一种基于原型复制对象的语言，但是它又不是真正的复制，还是有一个原型的引用。\n",
    "以下是它的两个特点：\n",
    "1. 如果所有对象都有私有字段[[prototype]]，就是对象的原型；\n",
    "2. 读一个属性，如果对象本身没有，则会继续访问对象的原型，直到原型为空或者找到为止。"
   ]
  },
  {
   "cell_type": "markdown",
   "metadata": {},
   "source": [
    "这个模型在 ES 的各个历史版本中并没有很大改变，但从 ES6 以来，JavaScript 提供了一系列内置函数，以便更为直接地访问操纵原型。\n",
    "三个方法分别为：\n",
    "1. Object.create 根据指定的原型创建新对象，原型可以是 null；\n",
    "2. Object.getPrototypeOf 获得一个对象的原型；\n",
    "3. Object.setPrototypeOf 设置一个对象的原型。"
   ]
  },
  {
   "cell_type": "code",
   "execution_count": 2,
   "metadata": {},
   "outputs": [
    {
     "name": "stdout",
     "output_type": "stream",
     "text": [
      "meow~\n",
      "roar!\n"
     ]
    }
   ],
   "source": [
    "var cat = {\n",
    "    say(){\n",
    "        console.log(\"meow~\");\n",
    "    },\n",
    "    jump(){\n",
    "        console.log(\"jump\");\n",
    "    }\n",
    "}\n",
    "\n",
    "var tiger = Object.create(cat,  {\n",
    "    say:{\n",
    "        writable:true,\n",
    "        configurable:true,\n",
    "        enumerable:true,\n",
    "        value:function(){\n",
    "            console.log(\"roar!\");\n",
    "        }\n",
    "    }\n",
    "})\n",
    "\n",
    "\n",
    "var anotherCat = Object.create(cat);\n",
    "\n",
    "anotherCat.say();\n",
    "\n",
    "var anotherTiger = Object.create(tiger);\n",
    "\n",
    "anotherTiger.say();\n"
   ]
  },
  {
   "cell_type": "markdown",
   "metadata": {},
   "source": [
    "##### 早期版本中的类与原型\n",
    "在早期版本的 JavaScript 中，“类”的定义是一个私有属性 [[class]]，语言标准为内置类型诸如 Number、String、Date 等指定了[[class]]属性，以表示它们的类。语言使用者唯一可以访问[[class]]属性的方式是 Object.prototype.toString。"
   ]
  },
  {
   "cell_type": "code",
   "execution_count": 3,
   "metadata": {},
   "outputs": [
    {
     "name": "stdout",
     "output_type": "stream",
     "text": [
      "[\n",
      "  '[object Object]',\n",
      "  '[object Number]',\n",
      "  '[object String]',\n",
      "  '[object Boolean]',\n",
      "  '[object Date]',\n",
      "  '[object Arguments]',\n",
      "  '[object RegExp]',\n",
      "  '[object Function]',\n",
      "  '[object Array]',\n",
      "  '[object Error]'\n",
      "]\n"
     ]
    }
   ],
   "source": [
    "var o = new Object;\n",
    "var n = new Number;\n",
    "var s = new String;\n",
    "var b = new Boolean;\n",
    "var d = new Date;\n",
    "var arg = function(){ return arguments }();\n",
    "var r = new RegExp;\n",
    "var f = new Function;\n",
    "var arr = new Array;\n",
    "var e = new Error;\n",
    "console.log([o, n, s, b, d, arg, r, f, arr, e].map(v => Object.prototype.toString.call(v))); "
   ]
  },
  {
   "cell_type": "markdown",
   "metadata": {},
   "source": [
    "在 ES5 开始，[[class]] 私有属性被 Symbol.toStringTag 代替，Object.prototype.toString 的意义从命名上不再跟 class 相关。我们甚至可以自定义 Object.prototype.toString 的行为，以下代码展示了使用 Symbol.toStringTag 来自定义 Object.prototype.toString 的行为："
   ]
  },
  {
   "cell_type": "code",
   "execution_count": 4,
   "metadata": {},
   "outputs": [
    {
     "name": "stdout",
     "output_type": "stream",
     "text": [
      "[object MyObject]\n"
     ]
    }
   ],
   "source": [
    "var o = { [Symbol.toStringTag]: \"MyObject\" }\n",
    "console.log(o + \"\");"
   ]
  },
  {
   "cell_type": "markdown",
   "metadata": {},
   "source": [
    "##### JavaScript用new关键字创建对象的步骤\n",
    "new 运算接受一个构造器和一组调用参数，实际上做了几件事：\n",
    "1. 以构造器的 prototype 属性（注意与私有字段[[prototype]]的区分）为原型，创建新对象；\n",
    "2. 将 this 和调用参数传给构造器，执行；\n",
    "3. 如果构造器返回的是对象，则返回，否则返回第一步创建的对象。\n",
    "new 这样的行为，试图让函数对象在语法上跟类变得相似，但是，它客观上提供了两种方式，一是在构造器中添加属性，二是在构造器的 prototype 属性上添加属性。"
   ]
  },
  {
   "cell_type": "code",
   "execution_count": 7,
   "metadata": {},
   "outputs": [
    {
     "name": "stdout",
     "output_type": "stream",
     "text": [
      "vfbiby\n",
      "1\n"
     ]
    }
   ],
   "source": [
    "function c1(name){\n",
    "    this.p1 = name;\n",
    "    this.p2 = function(){\n",
    "        console.log(this.p1);\n",
    "    }\n",
    "}\n",
    "var o1 = new c1('vfbiby');\n",
    "o1.p2();\n",
    "\n",
    "\n",
    "\n",
    "function c2(){\n",
    "}\n",
    "c2.prototype.p1 = 1;\n",
    "c2.prototype.p2 = function(){\n",
    "    console.log(this.p1);\n",
    "}\n",
    "\n",
    "var o2 = new c2;\n",
    "o2.p2();"
   ]
  },
  {
   "cell_type": "markdown",
   "metadata": {},
   "source": [
    "## ES6 中的类\n",
    "ES6 中引入了 class 关键字，并且在标准中删除了所有[[class]]相关的私有属性描述，类的概念正式从属性升级成语言的基础设施，从此，基于类的编程方式成为了 JavaScript 的官方编程范式。"
   ]
  },
  {
   "cell_type": "code",
   "execution_count": 11,
   "metadata": {},
   "outputs": [
    {
     "name": "stdout",
     "output_type": "stream",
     "text": [
      "726\n"
     ]
    }
   ],
   "source": [
    "class Rectangle {\n",
    "  constructor(height, width) {\n",
    "    this.height = height;\n",
    "    this.width = width;\n",
    "  }\n",
    "  // Getter\n",
    "  get area() {\n",
    "    return this.calcArea();\n",
    "  }\n",
    "  // Method\n",
    "  calcArea() {\n",
    "    return this.height * this.width;\n",
    "  }\n",
    "}\n",
    "\n",
    "const q = new Rectangle(33, 22)\n",
    "console.log(q.area)"
   ]
  },
  {
   "cell_type": "markdown",
   "metadata": {},
   "source": [
    "### 类提供了继承能力。我们来看一下下面的代码。"
   ]
  },
  {
   "cell_type": "code",
   "execution_count": 14,
   "metadata": {},
   "outputs": [
    {
     "name": "stdout",
     "output_type": "stream",
     "text": [
      "Mitzie barks.\n"
     ]
    }
   ],
   "source": [
    "class Animal { \n",
    "  constructor(name) {\n",
    "    this.name = name;\n",
    "  }\n",
    "  \n",
    "  speak() {\n",
    "    console.log(this.name + ' makes a noise.');\n",
    "  }\n",
    "}\n",
    "\n",
    "class Dog extends Animal {\n",
    "  constructor(name) {\n",
    "    super(name); // call the super class constructor and pass in the name parameter\n",
    "  }\n",
    "\n",
    "  speak() {\n",
    "    console.log(this.name + ' barks.');\n",
    "  }\n",
    "}\n",
    "\n",
    "let d = new Dog('Mitzie');\n",
    "d.speak(); // Mitzie barks."
   ]
  },
  {
   "cell_type": "markdown",
   "metadata": {},
   "source": [
    "https://time.geekbang.org/column/article/79539"
   ]
  }
 ],
 "metadata": {
  "kernelspec": {
   "display_name": "Javascript (Node.js)",
   "language": "javascript",
   "name": "javascript"
  },
  "language_info": {
   "file_extension": ".js",
   "mimetype": "application/javascript",
   "name": "javascript",
   "version": "14.13.0"
  }
 },
 "nbformat": 4,
 "nbformat_minor": 4
}
