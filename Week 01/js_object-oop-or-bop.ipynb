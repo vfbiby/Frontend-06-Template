{
 "cells": [
  {
   "cell_type": "markdown",
   "metadata": {},
   "source": [
    "# JavaScript对象：面向对象还是基于对象？"
   ]
  },
  {
   "cell_type": "markdown",
   "metadata": {},
   "source": [
    "> javascript其实是基于对象的，并不像C++那些一样，由基类实例化而来。\n",
    "它是一种基于原型的对象。"
   ]
  },
  {
   "cell_type": "markdown",
   "metadata": {},
   "source": [
    "在javascript中任何两个对象都不相等"
   ]
  },
  {
   "cell_type": "code",
   "execution_count": 5,
   "metadata": {},
   "outputs": [
    {
     "name": "stdout",
     "output_type": "stream",
     "text": [
      "false\n"
     ]
    }
   ],
   "source": [
    "var o1 = { a: 1 }\n",
    "var o2 = { a: 1 }\n",
    "console.log(o1 === o2)"
   ]
  },
  {
   "cell_type": "markdown",
   "metadata": {},
   "source": [
    "在javascript中，只有属性。不像C++中有成员变量、成员方法。一切被抽象成属性，请看属性跟方法的写法。"
   ]
  },
  {
   "cell_type": "code",
   "execution_count": 9,
   "metadata": {},
   "outputs": [
    {
     "name": "stdout",
     "output_type": "stream",
     "text": [
      "2\n"
     ]
    }
   ],
   "source": [
    "var o = {\n",
    "    d: 2,\n",
    "    f(){\n",
    "        console.log(this.d)\n",
    "    }\n",
    "};\n",
    "o.f()"
   ]
  },
  {
   "cell_type": "markdown",
   "metadata": {},
   "source": [
    "javascript可以在运行时改变属性，比如可以在定义后添加属性。"
   ]
  },
  {
   "cell_type": "code",
   "execution_count": 11,
   "metadata": {},
   "outputs": [
    {
     "name": "stdout",
     "output_type": "stream",
     "text": [
      "1 2\n"
     ]
    }
   ],
   "source": [
    "var o = { a:1 }\n",
    "o.b = 2\n",
    "console.log(o.a, o.b)"
   ]
  },
  {
   "cell_type": "markdown",
   "metadata": {},
   "source": [
    "第一类属性默认都有 writable、enumerable、configurable 都默认为 true。我们可以使用内置函数 getOwnPropertyDescripter 来查看，如以下代码所示："
   ]
  },
  {
   "cell_type": "code",
   "execution_count": 16,
   "metadata": {},
   "outputs": [
    {
     "data": {
      "text/plain": [
       "{ value: 2, writable: true, enumerable: true, configurable: true }"
      ]
     },
     "execution_count": 16,
     "metadata": {},
     "output_type": "execute_result"
    }
   ],
   "source": [
    "var o = { a: 1 };    o.b = 2;    //a和b皆为数据属性    \n",
    "Object.getOwnPropertyDescriptor(o,\"a\")\n",
    "Object.getOwnPropertyDescriptor(o,\"b\")"
   ]
  },
  {
   "cell_type": "markdown",
   "metadata": {},
   "source": [
    "第二类属有\n",
    "1. getter：函数或 undefined，在取属性值时被调用。\n",
    "2. setter：函数或 undefined，在设置属性值时被调用。\n",
    "3. enumerable：决定 for in 能否枚举该属性。\n",
    "4. configurable：决定该属性能否被删除或者改变特征值。"
   ]
  },
  {
   "cell_type": "markdown",
   "metadata": {},
   "source": [
    "如果我们要想改变属性的特征，或者定义访问器属性，我们可以使用 Object.defineProperty，示例如下："
   ]
  },
  {
   "cell_type": "code",
   "execution_count": 19,
   "metadata": {},
   "outputs": [
    {
     "name": "stdout",
     "output_type": "stream",
     "text": [
      "2\n"
     ]
    }
   ],
   "source": [
    "var o = { a: 1 };\n",
    "Object.defineProperty(o, \"b\", {value: 2, writable: false, enumerable: false, configurable: true});\n",
    "//a和b都是数据属性，但特征值变化了\n",
    "Object.getOwnPropertyDescriptor(o,\"a\"); // {value: 1, writable: true, enumerable: true, configurable: true}\n",
    "Object.getOwnPropertyDescriptor(o,\"b\"); // {value: 2, writable: false, enumerable: false, configurable: true}\n",
    "o.b = 3;\n",
    "console.log(o.b); // 2"
   ]
  },
  {
   "cell_type": "markdown",
   "metadata": {},
   "source": [
    "javascript的getter"
   ]
  },
  {
   "cell_type": "code",
   "execution_count": 20,
   "metadata": {},
   "outputs": [
    {
     "name": "stdout",
     "output_type": "stream",
     "text": [
      "1\n"
     ]
    }
   ],
   "source": [
    "var o = { \n",
    "    get a(){ return 1;} \n",
    "};\n",
    "\n",
    "console.log(o.a);"
   ]
  },
  {
   "cell_type": "markdown",
   "metadata": {},
   "source": [
    "https://time.geekbang.org/column/article/79319"
   ]
  }
 ],
 "metadata": {
  "kernelspec": {
   "display_name": "jp-Babel (Node.js)",
   "language": "babel",
   "name": "babel"
  },
  "language_info": {
   "file_extension": ".js",
   "mimetype": "application/javascript",
   "name": "javascript",
   "version": "14.13.0"
  }
 },
 "nbformat": 4,
 "nbformat_minor": 4
}
